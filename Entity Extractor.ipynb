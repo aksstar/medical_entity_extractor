{
 "cells": [
  {
   "cell_type": "markdown",
   "id": "b2619e52-1e31-4977-ac02-62f87be755c2",
   "metadata": {},
   "source": [
    "# Healthcare Natural Language API"
   ]
  },
  {
   "cell_type": "code",
   "execution_count": 8,
   "id": "d17b3d5b-cf63-4b84-b363-5583451e21aa",
   "metadata": {},
   "outputs": [
    {
     "name": "stdout",
     "output_type": "stream",
     "text": [
      "Request successful!\n"
     ]
    }
   ],
   "source": [
    "import requests\n",
    "import subprocess\n",
    "import json \n",
    "\n",
    "sample_text = \"Course in Hospital:  Mr. Johnson arrived in the ER from nursing home with a three-day history of worsening shortness of breath, yellow-green sputum, and increased sputum production. He was subsequently diagnosed with a COPD exacerbation and was satting at 84% on 4L O2 by nasal prongs. Medical presciptions : TAB PARACIP 500 MG two TABLETS PER ORAL THRICE DAILY AFTER FOOD FOR 5 DAYS INJ. AUGMENTIN 1.2 GM, INTRAVENOUS, THREE TIMES A DAY X 4 DAYS\"\n",
    "\n",
    "def get_access_token():\n",
    "    result = subprocess.run(['gcloud', 'auth', 'print-access-token'], capture_output=True, text=True)\n",
    "    return result.stdout.strip()\n",
    "\n",
    "access_token = get_access_token()\n",
    "\n",
    "headers = {\n",
    "    \"Authorization\": f\"Bearer {access_token}\",  \n",
    "    \"Content-Type\": \"application/json\"\n",
    "}\n",
    "\n",
    "url = \"https://healthcare.googleapis.com/v1/projects/{project_id}/locations/us-central1/services/nlp:analyzeEntities\"\n",
    "\n",
    "data = {\n",
    "  \"documentContent\": sample_text\n",
    "}\n",
    "\n",
    "response = requests.post(url, headers=headers, data=json.dumps(data))\n",
    "\n",
    "if response.status_code == 200:\n",
    "    print(\"Request successful!\")\n",
    "    # Process the response data here\n",
    "else:\n",
    "    print(\"Request failed:\", response.text) "
   ]
  },
  {
   "cell_type": "code",
   "execution_count": null,
   "id": "dc92e5e6-3f8b-44ec-a625-6bbf7a2240ff",
   "metadata": {},
   "outputs": [],
   "source": [
    "response.json()"
   ]
  },
  {
   "cell_type": "markdown",
   "id": "f8c7ae1a-cc12-4d14-a45e-7e471bf09544",
   "metadata": {},
   "source": [
    "# Medpalm"
   ]
  },
  {
   "cell_type": "code",
   "execution_count": null,
   "id": "f622bee7-d33f-4b46-9472-f8c06c56a706",
   "metadata": {},
   "outputs": [],
   "source": [
    "from google.cloud import aiplatform\n",
    "from google.cloud.aiplatform.gapic.schema import predict\n",
    "from google.protobuf import json_format\n",
    "from google.protobuf.struct_pb2 import Value\n",
    "\n",
    "# The AI Platform services require regional API endpoints.\n",
    "client_options = {\"api_endpoint\": \"us-central1-aiplatform.googleapis.com\"}\n",
    "# Initialize client that will be used to create and send requests.\n",
    "# This client only needs to be created once, and can be reused for multiple requests.\n",
    "client = aiplatform.gapic.PredictionServiceClient(\n",
    "    client_options=client_options\n",
    ")\n",
    "instance_dict = {\n",
    "    \"content\": \"You are a medical expert and you have to all extract Medicine Name, dosage, frequency, duration from the following text in the format\\n[Medicine Name, Medicine strength, Medicine Dose, Medicine frequency, Medicine duration].\\nif medicine attribute is not found fill None. Output should be strictly a list containing 5 items.\\nDo not include medicine route like INTRAVENOUS, SUBCUTANEOUS in output\\n\\nExample of\\nMedical strength = ['10mg', '90MG', '40 MG']\\nDosage = ['ONE TABLET', 'two doses', '3 TSF', '2 PUFFS', '1 TAB'] dosage.\\nFrequency = ['THRICE DAILY', 'ONCE AT BED TIME', 'TWICE A DAY', 'ONCE A DAY']\\nDuration = ['21 days / 28 days', '15 days', 'one week']\\n\\nInput : \\\"1. TAB PARACIP 500 MG two TABLETS PER ORAL THRICE DAILY AFTER FOOD FOR 5 DAYS (PAIN)\\n2. TAB PAN 40 MG ONE TABLET PER ORAL ONCE DAILY BEFORE BREAKFAST FOR 7 DAYS (ACIDITY)\\\"\\nExpected output : [['TAB PAN', '40 MG','ONE TABLET', 'ONCE DAILY', '7 DAYS'], ['TAB PARACIP ', '500 MG','two TABLETS','THRICE DAILY', '5 DAYS']]\"\n",
    "}\n",
    "instance = json_format.ParseDict(instance_dict, Value())\n",
    "instances = [instance]\n",
    "parameters_dict = {\n",
    "    \"maxOutputTokens\": 500,\n",
    "    \"temperature\": 0.2,\n",
    "    \"topP\": 0.8,\n",
    "    \"topK\": 40\n",
    "}\n",
    "parameters = json_format.ParseDict(parameters_dict, Value())\n",
    "response = client.predict(\n",
    "    endpoint=\"projects/{project_id}/locations/us-central1/publishers/google/models/medpalm2@latest\", instances=instances, parameters=parameters\n",
    ")\n",
    "print(\"response\")\n",
    "predictions = response.predictions\n",
    "for prediction in predictions:\n",
    "  print(\" prediction:\", dict(prediction))"
   ]
  },
  {
   "cell_type": "markdown",
   "id": "0725628a-2e7f-49ae-84da-b4074ff2a9ae",
   "metadata": {},
   "source": [
    "# Medspacy"
   ]
  },
  {
   "cell_type": "code",
   "execution_count": null,
   "id": "40887fdf-4af7-4eb9-a4a9-7d305e9bb529",
   "metadata": {},
   "outputs": [],
   "source": [
    "!pip install medspacy\n",
    "!python -m spacy download en_core_web_sm"
   ]
  },
  {
   "cell_type": "code",
   "execution_count": null,
   "id": "02589001-c5a6-4caa-827e-cab0a6d17089",
   "metadata": {},
   "outputs": [],
   "source": [
    "import spacy\n",
    "import medspacy\n",
    "\n",
    "nlp = medspacy.load(\"en_core_web_sm\") # Load a pre-trained MedSpaCy model \n",
    "text = \"Patient reports headache and nausea. Denies fever. Prescribed ibuprofen 200mg.\"\n",
    "doc = nlp(text)\n",
    "\n",
    "for entity in doc.ents:\n",
    "    print(entity.text, entity.label_)\n"
   ]
  },
  {
   "cell_type": "code",
   "execution_count": null,
   "id": "010fd8f6-d93f-4c48-bf43-5f9c6605fe69",
   "metadata": {},
   "outputs": [],
   "source": []
  }
 ],
 "metadata": {
  "environment": {
   "kernel": "python3",
   "name": "tf2-gpu.2-12.m110",
   "type": "gcloud",
   "uri": "gcr.io/deeplearning-platform-release/tf2-gpu.2-12:m110"
  },
  "kernelspec": {
   "display_name": "Python 3",
   "language": "python",
   "name": "python3"
  },
  "language_info": {
   "codemirror_mode": {
    "name": "ipython",
    "version": 3
   },
   "file_extension": ".py",
   "mimetype": "text/x-python",
   "name": "python",
   "nbconvert_exporter": "python",
   "pygments_lexer": "ipython3",
   "version": "3.10.12"
  }
 },
 "nbformat": 4,
 "nbformat_minor": 5
}
